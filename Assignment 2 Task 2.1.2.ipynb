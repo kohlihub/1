{
 "cells": [
  {
   "cell_type": "code",
   "execution_count": 24,
   "metadata": {},
   "outputs": [
    {
     "name": "stdout",
     "output_type": "stream",
     "text": [
      "Here's list of words longer than length 5\n",
      "\n",
      "['python', 'ineuron', 'assignment', 'assignments', 'problem', 'programming']\n"
     ]
    }
   ],
   "source": [
    "words=['python',\"ineuron\", 'class','assignment','task', 'assignments', 'problem','I','we','programming']\n",
    "n=5\n",
    "def filter_long_words(word):\n",
    "    if len(word)>n:\n",
    "        return True\n",
    "print(\"Here's list of words longer than length {}\\n\\n{}\" .format(n,list(filter(filter_long_words,words))))"
   ]
  },
  {
   "cell_type": "code",
   "execution_count": null,
   "metadata": {},
   "outputs": [],
   "source": []
  }
 ],
 "metadata": {
  "kernelspec": {
   "display_name": "Python 3",
   "language": "python",
   "name": "python3"
  },
  "language_info": {
   "codemirror_mode": {
    "name": "ipython",
    "version": 3
   },
   "file_extension": ".py",
   "mimetype": "text/x-python",
   "name": "python",
   "nbconvert_exporter": "python",
   "pygments_lexer": "ipython3",
   "version": "3.7.6"
  }
 },
 "nbformat": 4,
 "nbformat_minor": 4
}
