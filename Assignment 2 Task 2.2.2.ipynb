{
 "cells": [
  {
   "cell_type": "code",
   "execution_count": 21,
   "metadata": {},
   "outputs": [
    {
     "name": "stdout",
     "output_type": "stream",
     "text": [
      "Enter a character: q\n",
      "False\n"
     ]
    }
   ],
   "source": [
    "char=input('Enter a character: ')\n",
    "vowels='aeiou'\n",
    "if len(char)==1:\n",
    "    print(vowel(char))\n",
    "else:\n",
    "    print('Enter only one character')\n",
    "def vowel(char):\n",
    "    if vowels.find(char)!= -1:\n",
    "        return True\n",
    "    else:\n",
    "        return False"
   ]
  },
  {
   "cell_type": "code",
   "execution_count": 22,
   "metadata": {},
   "outputs": [
    {
     "name": "stdout",
     "output_type": "stream",
     "text": [
      "Enter a character: aq\n",
      "Enter only one character\n"
     ]
    }
   ],
   "source": [
    "char=input('Enter a character: ')\n",
    "vowels='aeiou'\n",
    "if len(char)==1:\n",
    "    print(vowel(char))\n",
    "else:\n",
    "    print('Enter only one character')\n",
    "def vowel(char):\n",
    "    if vowels.find(char)!= -1:\n",
    "        return True\n",
    "    else:\n",
    "        return False"
   ]
  },
  {
   "cell_type": "code",
   "execution_count": 23,
   "metadata": {},
   "outputs": [
    {
     "name": "stdout",
     "output_type": "stream",
     "text": [
      "Enter a character: e\n",
      "True\n"
     ]
    }
   ],
   "source": [
    "char=input('Enter a character: ')\n",
    "vowels='aeiou'\n",
    "if len(char)==1:\n",
    "    print(vowel(char))\n",
    "else:\n",
    "    print('Enter only one character')\n",
    "def vowel(char):\n",
    "    if vowels.find(char)!= -1:\n",
    "        return True\n",
    "    else:\n",
    "        return False"
   ]
  },
  {
   "cell_type": "code",
   "execution_count": null,
   "metadata": {},
   "outputs": [],
   "source": []
  }
 ],
 "metadata": {
  "kernelspec": {
   "display_name": "Python 3",
   "language": "python",
   "name": "python3"
  },
  "language_info": {
   "codemirror_mode": {
    "name": "ipython",
    "version": 3
   },
   "file_extension": ".py",
   "mimetype": "text/x-python",
   "name": "python",
   "nbconvert_exporter": "python",
   "pygments_lexer": "ipython3",
   "version": "3.7.6"
  }
 },
 "nbformat": 4,
 "nbformat_minor": 4
}
