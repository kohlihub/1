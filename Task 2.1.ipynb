{
 "cells": [
  {
   "cell_type": "code",
   "execution_count": 4,
   "metadata": {},
   "outputs": [
    {
     "name": "stdout",
     "output_type": "stream",
     "text": [
      "enter comma-separated numbers>>> 34,8,2,9,0,567,963,2,8,1753,782,9,3,7,6724,9,3\n"
     ]
    },
    {
     "data": {
      "text/plain": [
       "[34, 8, 2, 9, 0, 567, 963, 2, 8, 'large', 782, 9, 3, 7, 'large', 9, 3]"
      ]
     },
     "execution_count": 4,
     "metadata": {},
     "output_type": "execute_result"
    }
   ],
   "source": [
    "'Program accepts comma-separated numbers and generate a list'\n",
    "l=input(\"enter comma-separated numbers>>> \")\n",
    "m=[]\n",
    "dig=0\n",
    "'dig- to count digits in entered number'\n",
    "cnt=0\n",
    "'cnt- to detect end of numbers'\n",
    "for i in l:\n",
    "    cnt=cnt+1\n",
    "    if cnt==len(l):\n",
    "        'option if entered character is last number and conversion to number from characters'    \n",
    "        if dig==0:\n",
    "            n=int(i)\n",
    "        elif dig==1:\n",
    "            n=a*pow(10,1)+int(i)\n",
    "        elif dig==2:\n",
    "            n=a*pow(10,2)+b*pow(10,1)+int(i)\n",
    "        else:\n",
    "            'if enterd number is having more than 3 digits can be extended'\n",
    "            n=\"large\"\n",
    "        m.append(n)\n",
    "    elif i==',':\n",
    "        'option if entered character is comma and conversion to number from characters'    \n",
    "        if dig==1:\n",
    "            n=a*pow(10,0)\n",
    "        elif dig==2:\n",
    "            n=a*pow(10,1)+b*pow(10,0)\n",
    "        elif dig==3:\n",
    "            n=a*pow(10,2)+b*pow(10,1)+c*pow(10,0)\n",
    "        else:\n",
    "            n=\"large\"\n",
    "        dig=0\n",
    "        m.append(n)\n",
    "        continue\n",
    "    else:\n",
    "        'counting digits in entered number'\n",
    "        dig=dig+1\n",
    "        if dig==1:\n",
    "            a=int(i)\n",
    "        elif dig==2:\n",
    "            b=int(i)\n",
    "        elif dig==3:\n",
    "            c=int(i)\n",
    "m"
   ]
  },
  {
   "cell_type": "code",
   "execution_count": null,
   "metadata": {},
   "outputs": [],
   "source": []
  }
 ],
 "metadata": {
  "kernelspec": {
   "display_name": "Python 3",
   "language": "python",
   "name": "python3"
  },
  "language_info": {
   "codemirror_mode": {
    "name": "ipython",
    "version": 3
   },
   "file_extension": ".py",
   "mimetype": "text/x-python",
   "name": "python",
   "nbconvert_exporter": "python",
   "pygments_lexer": "ipython3",
   "version": "3.7.6"
  }
 },
 "nbformat": 4,
 "nbformat_minor": 4
}
