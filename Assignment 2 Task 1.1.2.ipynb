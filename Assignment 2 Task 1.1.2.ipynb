{
 "cells": [
  {
   "cell_type": "code",
   "execution_count": 9,
   "metadata": {},
   "outputs": [],
   "source": [
    "def myfilter(func,L):\n",
    "    '''this is replica of built-in filter function'''\n",
    "    L_fltr=[]\n",
    "    if func==None:\n",
    "        for i in range(len(L)):\n",
    "            if L[i]==True or L[i] != 0:\n",
    "                L_fltr.append(L[i])\n",
    "    else:\n",
    "        for i in range(len(L)):\n",
    "            if func(L[i])==True or func(L[i]) != 0:\n",
    "                L_fltr.append(L[i])\n",
    "    return L_fltr"
   ]
  },
  {
   "cell_type": "markdown",
   "metadata": {},
   "source": [
    "Example Output -- To find odd numbers using my filter"
   ]
  },
  {
   "cell_type": "code",
   "execution_count": 12,
   "metadata": {},
   "outputs": [
    {
     "data": {
      "text/plain": [
       "[5, 67, 3, 9]"
      ]
     },
     "execution_count": 12,
     "metadata": {},
     "output_type": "execute_result"
    }
   ],
   "source": [
    "p=[0,5,2,12,67,28,3,9,0]\n",
    "list(myfilter(lambda x:x%2!=0,p))"
   ]
  },
  {
   "cell_type": "code",
   "execution_count": null,
   "metadata": {},
   "outputs": [],
   "source": []
  }
 ],
 "metadata": {
  "kernelspec": {
   "display_name": "Python 3",
   "language": "python",
   "name": "python3"
  },
  "language_info": {
   "codemirror_mode": {
    "name": "ipython",
    "version": 3
   },
   "file_extension": ".py",
   "mimetype": "text/x-python",
   "name": "python",
   "nbconvert_exporter": "python",
   "pygments_lexer": "ipython3",
   "version": "3.7.6"
  }
 },
 "nbformat": 4,
 "nbformat_minor": 4
}
